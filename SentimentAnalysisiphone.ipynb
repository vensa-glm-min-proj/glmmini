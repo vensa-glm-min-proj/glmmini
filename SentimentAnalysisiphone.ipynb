{
 "cells": [
  {
   "cell_type": "code",
   "execution_count": 1,
   "metadata": {},
   "outputs": [],
   "source": [
    "import tweepy\n",
    "from tweepy import Stream\n",
    "from tweepy import OAuthHandler\n",
    "from tweepy.streaming import StreamListener\n",
    "import time\n",
    "import argparse\n",
    "import string\n",
    "import json\n",
    "from threading import Thread\n",
    "from textblob import TextBlob\n",
    "import re\n",
    "\n"
   ]
  },
  {
   "cell_type": "code",
   "execution_count": 2,
   "metadata": {
    "collapsed": true
   },
   "outputs": [],
   "source": [
    "access_token = '913446045853429761-zMeEJRO6Cr0fJelyd1ul1o7t8GZkG1Y'\n",
    "access_secret = 'oVZkO4Ui7WAbtub4prfCmGCVrdAdUErCweNVS74eVu32a'\n",
    "consumer_key = 'jHvYx5OgcJCqX7HXmNfsZuHIS'\n",
    "consumer_secret = 'hiCjYySNZURaMxZI04qI7ey8ARvFidNAFlv8hjaEkKfSekQJ52'"
   ]
  },
  {
   "cell_type": "code",
   "execution_count": 3,
   "metadata": {
    "collapsed": true
   },
   "outputs": [],
   "source": [
    "auth = OAuthHandler(consumer_key, consumer_secret)\n",
    "auth.set_access_token(access_token, access_secret)\n",
    " \n",
    "api = tweepy.API(auth)\n"
   ]
  },
  {
   "cell_type": "code",
   "execution_count": 4,
   "metadata": {
    "collapsed": true
   },
   "outputs": [],
   "source": [
    "pub_tweet=api.search(\"iphone\")"
   ]
  },
  {
   "cell_type": "code",
   "execution_count": 5,
   "metadata": {},
   "outputs": [
    {
     "name": "stdout",
     "output_type": "stream",
     "text": [
      "RT @BestComedyVine: me: whats the difference between iphone 7 and iphone 8 apple employee: https://t.co/UlhFitBNNs\n",
      "RT @WSHHDAILYMUSIC: Usher &amp; Chris Tucker surprising Michael Jackson on stage is the most iconic thing ever https://t.co/NuKfjdKuyC\n",
      "RT @Hybrid0: 늙어서도 기억력도 좋고 집중력도 좋은 슈퍼늙은이(super-ager)의 뇌과학자 연구에 관한 글. 그런 사람들은 변연계(limbic system)라는 곳이 발달되어 있는데,\n",
      "https://t.co/79MMZaDuSE\n",
      "モイ！iPhoneからキャス配信中 - https://t.co/dy2AnVqx2B\n",
      "ブログを更新しました。 『【ラスト1点！！】iPhone5・5S・SEに対応♡【デイジー×ネイル×ケース】』\n",
      "https://t.co/wNhDR7WByG\n",
      "#ラスト1点\n",
      "#ゲット\n",
      "#アメブロ\n",
      "RT @LEOARANCIBIA18: Mi IPhone 7 plus lo cuido tanto que todavía lo tengo en su caja, en la tienda; en el centro comercial.\n",
      "RT @MarzBarGaming: GIVEAWAY: iPhone 8 Plus 64GB I purchased yesterday. Retweet and Click the link in this video's description to enter: htt…\n",
      "モイ！iPhoneからキャス配信中 -\n",
      "みんな学校だから来れない(^q^)\n",
      "( ∩  ͡° ͜ʖ ͡° ∩) ﾝﾌ～～ / よよよう #喋ってますぅ https://t.co/oBfVk3MCyx\n",
      "RT @MariaFelicz: Ya mero es mi cumpleaños. Like si me van a depositar en mi saldazo para comprarme un iPhone.\n",
      "FRIEND: \"iPhone is better than Android.\"\n",
      "ME: https://t.co/l7qLrGDCJm\n",
      "Moment lens version 2 review this full lens suite brings dslr photography to the iphone 7 ... - https://t.co/c29sUuFtPi\n",
      "Enter This #iPhoneX, Logitech Keyboard/Mouse, and #Overwatch Loot Boxes #Giveaway! https://t.co/n6pbBbBJ2a\n",
      "モイ！iPhoneからキャス配信中 - 初見さん大歓迎 🙌  3点、✩つけてってね！チラ見、潜り('ω'乂)✕ https://t.co/kPSBZdWaBW\n",
      "Компания Apple объявила о начале расследования относительно вздутия аккумулятора в новых iPhone 8 Plus. После старта…\n",
      "\n"
     ]
    }
   ],
   "source": [
    "for tweet in pub_tweet : \n",
    "    print(tweet.text)\n",
    "    text = tweet.text\n",
    "cleanedtext = ' '.join([word for word in text.split(' ')if len(word) > 0 and word[0] == '.' and word[0] != '@' and word[0] != '#'  and 'http' not in word and word != 'RT'])\n",
    "print(cleanedtext)\n",
    " "
   ]
  },
  {
   "cell_type": "code",
   "execution_count": 6,
   "metadata": {},
   "outputs": [],
   "source": [
    " analysis = TextBlob(tweet.text)\n"
   ]
  },
  {
   "cell_type": "code",
   "execution_count": 7,
   "metadata": {},
   "outputs": [
    {
     "name": "stdout",
     "output_type": "stream",
     "text": [
      "Sentiment(polarity=0.0, subjectivity=0.0)\n"
     ]
    }
   ],
   "source": [
    "print(analysis.sentiment)"
   ]
  },
  {
   "cell_type": "code",
   "execution_count": 8,
   "metadata": {},
   "outputs": [],
   "source": [
    "sentiment = analysis.sentiment.polarity\n",
    "if sentiment >= 0:\n",
    "    polarity = 'Positive'\n",
    "else:\n",
    "    polarity = 'Negative'\n",
    "    print(polarity)\n",
    "    print(cleanedtext, polarity)\n",
    "    writer.writerow({'Tweet':text, 'Sentiment':polarity})\n"
   ]
  },
  {
   "cell_type": "code",
   "execution_count": 9,
   "metadata": {},
   "outputs": [
    {
     "name": "stdout",
     "output_type": "stream",
     "text": [
      "#PuberMe brings out awkward celebrity throwback photos to raise money for #PuertoRicoRelief. \n",
      "\n",
      "https://t.co/GDAF2dPR23\n",
      "Twitter Apps https://t.co/QPVPF8taKR via @twitter\n",
      "The ultimate recipe for banana bread success by @chrissyteigen. 🍞 https://t.co/GIopSASySP\n",
      "RT @TwitterVideo: The #streamys are LIVE! \n",
      "\n",
      "Watch it now. \n",
      "\n",
      "Like now-now.⬇️⬇️\n",
      "\n",
      "https://t.co/iwoDiJ0JKC\n",
      "Can’t fit your Tweet into 140 characters? 🤔\n",
      "\n",
      "We’re trying something new with a small group, and increasing the char… https://t.co/y1rJlHsVB5\n",
      "RT @TwitterTV: Changing seasons 🍃 = New seasons 👀\n",
      "\n",
      "Tell us the #Top5 shows you’re most looking forward to this fall.\n",
      "RT @TwitterNews: Starting now.\n",
      "\n",
      "@AM2DM is LIVE on Twitter. Tune in at https://t.co/xmE0wmy5m1. 👇\n",
      "RT @TwitterMusic: You can feel it all over. 🎹 \n",
      "\n",
      "Stevie Wonder and @Pharrell are rocking the stage at @GlblCtzn LIVE now. https://t.co/8Vtbq…\n",
      "RT @TwitterMusic: Turning music into a movement.\n",
      "\n",
      "The @GlblCtzn Festival is streaming LIVE on Twitter. https://t.co/8VtbqXFwt5\n",
      "RT @TwitterVideo: The @Twitter video weekly recap = emotional life boost. \n",
      "https://t.co/vjxPtrvaH9\n",
      "#FirstDayOfFall is happening.\n",
      "\n",
      "What does autumn Twitter look like for you?\n",
      "“Peace cannot be kept by force; it can only be achieved by understanding.” \n",
      "- Albert Einstein #PeaceDay https://t.co/7EX6fnc2WU\n",
      "RT @TwitterFaith: Celebrate 5778 with apples, honey and an emoji! Tweet using #RoshHashanah or #ShanahTovah to unlock a sweet emoji. https:…\n",
      "RT @TwitterVideo: Watch the #streamys LIVE, right here on Twitter.\n",
      "\n",
      "We’re ready… are you? 🌟 https://t.co/1UBYE8U6Fr\n",
      "RT @TwitterMoments: Click \"Follow\" for updates on the Mexico City earthquake. https://t.co/02JhE0lyuY\n",
      "RT @TwitterGov: #UNGA is streaming LIVE on Twitter. Tap below to watch ⤵️\n",
      "\n",
      "https://t.co/fQ5WKE5lZm\n",
      "RT @TwitterNews: Are you ready?\n",
      "\n",
      "Get your @BuzzFeedNews fix every morning. Watch @AM2DM LIVE on Twitter weekdays at 10am ET, starting 9/25!…\n",
      "These stars are bright. 🌟\n",
      "\n",
      "Some of TV's biggest names gave @smrtgrls inspiring answers on the #Emmys Red Carpet.\n",
      "\n",
      "https://t.co/6Lm3Y1Qh0J\n",
      "RT @TwitterGaming: Eye on the prize.\n",
      "\n",
      "@TeamLiquid and @FaZeClan face off in the #ESLOne Counter-Strike: Global Offensive finals LIVE! https…\n",
      "RT @TwitterGaming: Only one will make it to finals. \n",
      "\n",
      "@Cloud9 vs. @FaZeClan is LIVE from #ESLOne! https://t.co/YCOYmL0cbR\n",
      "RT @TwitterVideo: Get your Twitter Video weekly recap on! 👇 \n",
      "https://t.co/OcdUDyu3MD\n",
      "RT @TwitterGaming: #ESLOne Counter-Strike: Global Offensive semi-finals start now!\n",
      "\n",
      "Watch @TeamLiquid take on @SKGaming LIVE! https://t.co/…\n",
      "RT @TwitterMusic: 12 songs, 12 Tweets, 12 Lovatics.\n",
      "\n",
      "@ddlovato's track list announcement was 🔥 https://t.co/K7nIVoTB3e\n",
      "RT @smrtgrls: Tweet us inspiring questions using #SmartGirlsAsk for Sunday's #Emmys &amp; tune in to see it answered live on the red carpet! @T…\n",
      "RT @TwitterGaming: Only the best make it to Barclays Center. \n",
      "\n",
      "#ESLOne is here, and it’s all streaming LIVE on Twitter. https://t.co/tKFilo…\n",
      "Standing #HandInHand\n",
      "\n",
      "The benefit for hurricane relief is streaming LIVE on Twitter. https://t.co/2sh4wvcUAg\n",
      "RT @TwitterFashion: #Top5 accounts at #NYFW… GO.\n",
      "RT @handinhandfund: Watch #HandInHand live on Twitter! \n",
      "❤️ or retweet to show your support for hurricane victims.\n",
      "https://t.co/FtEEjCADuY\n",
      "RT @TwitterVideo: Flashback to...earlier this week. 😉 https://t.co/iguIKT7Nos\n",
      "Teams is a safe way to manage accounts without having to share passwords. Now available on mobile within the Twitte… https://t.co/dtU2SpHJp9\n",
      "One small Tweet from man, one giant message from mankind. \n",
      "\n",
      "@NASA sends a Tweet into space. 🚀 #MessageToVoyager https://t.co/rJgeM8tlHh\n",
      "RT @TwitterGov: Follow this list of emergency management accounts for live updates as they track Hurricane #Irma. https://t.co/cD7O1qgYKM\n",
      "RT @TwitterVideo: Introducing the @Twitter Creator of the Month series! First up, the lovely @allicatttx ✨ https://t.co/XKzAG81Es7\n",
      "RT @TwitterFaith: Wishing Muslims around the world a blessed Adha - Eid Mubarak #EidAdhaMubarak https://t.co/rbdHZZeBY8\n",
      "RT @Nonprofits: How local organizations and non-profits are supporting the Hurricane Harvey relief efforts.  https://t.co/xZOVnryOBo\n",
      "RT @TwitterMusic: In each other's company since Tweet number one.\n",
      "\n",
      "Congratulations @justinbieber on #100MBeliebers https://t.co/ftaTRwFrHP\n",
      "RT @fema: Here's a look at our response operations for #Harvey. For resources: https://t.co/QYz65o9EIG https://t.co/sVQqoxiFX8\n",
      "RT @RedCross: #RedCross is providing shelter, meals &amp; comfort to people impacted by #Harvey. To find a location: https://t.co/sizEp51qtg or…\n",
      "RT @TwitterMusic: Start the night on a high note. 🎶\n",
      "\n",
      "The #VMAs Red Carpet is streaming LIVE right now! https://t.co/Ybgft9mdXb\n",
      "RT @TwitterGov: Follow this list of emergency management accounts for live updates as they track Hurricane #Harvey. https://t.co/2QQLcDQwO5\n",
      "RT @TwitterSports: #MayweathervMcGregor is going down. 👀 👊\n",
      "\n",
      "Tap follow in the Moment to get updates right on your timeline.\n",
      "\n",
      "https://t.co/Y…\n",
      "RT @TwitterSports: 👀 @VanessaHudgens is ready to go.\n",
      "\n",
      "Who you got? #Mayweather #McGregor https://t.co/57QSxjEOjV\n",
      "RT @TwitterSports: Jab, Jab, 👊 from @DonCheadle. 👀\n",
      "\n",
      "#Mayweather and #McGregor is going down. https://t.co/PqnXLNGePC\n",
      "RT @TwitterMusic: You’ll like this.\n",
      "\n",
      "Tune in for the global premiere of @FifthHarmony’s ‘He Like That’ music video LIVE! #5HVevoLive https:…\n",
      "From breaking news to movements that unite us and bring about change. Here's to 10 years of trending hashtags on Tw… https://t.co/IAESv78wC5\n",
      "From metal to hip-hop to country, and every genre in between. Here’s to 10 years of musical hashtags on Twitter.… https://t.co/QjlQ8EWU19\n",
      "Ace. Goal. Strike. Touchdown. Grand Slam. Nothing but net. Here’s to 10 years of undefeated sports hashtags on Twit… https://t.co/64TZE8C64q\n",
      "Which hashtags have mattered most to you? #Hashtag10 https://t.co/WyJvGpZXuR\n",
      "10 years ago today the hashtag was born on Twitter. 🎂  #Hashtag10 https://t.co/upTBCkzDNP\n",
      "Who needs glasses when you've got a drone?\n",
      "\n",
      "#Eclipse2017 is LIVE on Twitter with the @weatherchannel! https://t.co/F5Nc8ndGt7\n",
      "RT @weatherchannel: Join us for a never-before-seen digital experience: a live stream event of #Eclipse2017! Watch it live on 8/21 at https…\n",
      "RT @NASA: Celebrate Monday's #Eclipse2017 with a new @Twitter hashtag emoji of totality, when the Moon blocks the Sun: https://t.co/Gl0JYIS…\n",
      "This Tweet from @BarackObama is now the most liked Tweet ever. https://t.co/wEjYaxIHI1\n",
      "How are you spending #NationalRelaxationDay?\n"
     ]
    }
   ],
   "source": [
    "for status in tweepy.Cursor(api.home_timeline).items(100):\n",
    "    # Process a single status\n",
    "    print(status.text)\n",
    "  "
   ]
  },
  {
   "cell_type": "code",
   "execution_count": 10,
   "metadata": {
    "collapsed": true
   },
   "outputs": [],
   "source": [
    "def print_feels(seconds=10):\n",
    "        while True:\n",
    "          time.sleep(seconds)\n",
    "          print(status.text)\n",
    "          "
   ]
  },
  {
   "cell_type": "code",
   "execution_count": 11,
   "metadata": {},
   "outputs": [],
   "source": [
    "t = Thread(target=print_feels)\n",
    "t.start()"
   ]
  },
  {
   "cell_type": "code",
   "execution_count": 12,
   "metadata": {
    "collapsed": true
   },
   "outputs": [],
   "source": [
    "def process_or_store(tweet):\n",
    "    print(json.dumps(tweet))\n",
    "    time.sleep(5)"
   ]
  },
  {
   "cell_type": "code",
   "execution_count": 13,
   "metadata": {},
   "outputs": [
    {
     "name": "stdout",
     "output_type": "stream",
     "text": [
      "{\"created_at\": \"Sat Sep 30 00:36:34 +0000 2017\", \"id\": 913925502410338304, \"id_str\": \"913925502410338304\", \"text\": \"#PuberMe brings out awkward celebrity throwback photos to raise money for #PuertoRicoRelief. \\n\\nhttps://t.co/GDAF2dPR23\", \"truncated\": false, \"entities\": {\"hashtags\": [{\"text\": \"PuberMe\", \"indices\": [0, 8]}, {\"text\": \"PuertoRicoRelief\", \"indices\": [74, 91]}], \"symbols\": [], \"user_mentions\": [], \"urls\": [{\"url\": \"https://t.co/GDAF2dPR23\", \"expanded_url\": \"https://twitter.com/i/moments/913457261262938112\", \"display_url\": \"twitter.com/i/moments/9134\\u2026\", \"indices\": [95, 118]}]}, \"source\": \"<a href=\\\"http://twitter.com\\\" rel=\\\"nofollow\\\">Twitter Web Client</a>\", \"in_reply_to_status_id\": null, \"in_reply_to_status_id_str\": null, \"in_reply_to_user_id\": null, \"in_reply_to_user_id_str\": null, \"in_reply_to_screen_name\": null, \"user\": {\"id\": 783214, \"id_str\": \"783214\", \"name\": \"Twitter\", \"screen_name\": \"Twitter\", \"location\": \"San Francisco, CA\", \"description\": \"Your official source for what\\u2019s happening.\\n\\nNeed a hand? Visit https://t.co/jTMg7YsLw5\", \"url\": \"https://t.co/gN5JJwhQy7\", \"entities\": {\"url\": {\"urls\": [{\"url\": \"https://t.co/gN5JJwhQy7\", \"expanded_url\": \"https://blog.twitter.com/\", \"display_url\": \"blog.twitter.com\", \"indices\": [0, 23]}]}, \"description\": {\"urls\": [{\"url\": \"https://t.co/jTMg7YsLw5\", \"expanded_url\": \"https://support.twitter.com\", \"display_url\": \"support.twitter.com\", \"indices\": [63, 86]}]}}, \"protected\": false, \"followers_count\": 62011829, \"friends_count\": 167, \"listed_count\": 90789, \"created_at\": \"Tue Feb 20 14:35:54 +0000 2007\", \"favourites_count\": 5169, \"utc_offset\": -25200, \"time_zone\": \"Pacific Time (US & Canada)\", \"geo_enabled\": true, \"verified\": true, \"statuses_count\": 6169, \"lang\": \"en\", \"contributors_enabled\": false, \"is_translator\": false, \"is_translation_enabled\": false, \"profile_background_color\": \"ACDED6\", \"profile_background_image_url\": \"http://pbs.twimg.com/profile_background_images/657090062/l1uqey5sy82r9ijhke1i.png\", \"profile_background_image_url_https\": \"https://pbs.twimg.com/profile_background_images/657090062/l1uqey5sy82r9ijhke1i.png\", \"profile_background_tile\": true, \"profile_image_url\": \"http://pbs.twimg.com/profile_images/875087697177567232/Qfy0kRIP_normal.jpg\", \"profile_image_url_https\": \"https://pbs.twimg.com/profile_images/875087697177567232/Qfy0kRIP_normal.jpg\", \"profile_banner_url\": \"https://pbs.twimg.com/profile_banners/783214/1503522865\", \"profile_link_color\": \"1B95E0\", \"profile_sidebar_border_color\": \"FFFFFF\", \"profile_sidebar_fill_color\": \"F6F6F6\", \"profile_text_color\": \"333333\", \"profile_use_background_image\": true, \"has_extended_profile\": true, \"default_profile\": false, \"default_profile_image\": false, \"following\": true, \"follow_request_sent\": false, \"notifications\": false, \"translator_type\": \"regular\"}, \"geo\": null, \"coordinates\": null, \"place\": null, \"contributors\": null, \"is_quote_status\": false, \"retweet_count\": 408, \"favorite_count\": 1813, \"favorited\": false, \"retweeted\": false, \"possibly_sensitive\": false, \"possibly_sensitive_appealable\": false, \"lang\": \"en\"}\n",
      "{\"created_at\": \"Fri Sep 29 01:21:26 +0000 2017\", \"id\": 913574406177226757, \"id_str\": \"913574406177226757\", \"text\": \"Twitter Apps https://t.co/QPVPF8taKR via @twitter\", \"truncated\": false, \"entities\": {\"hashtags\": [], \"symbols\": [], \"user_mentions\": [{\"screen_name\": \"Twitter\", \"name\": \"Twitter\", \"id\": 783214, \"id_str\": \"783214\", \"indices\": [41, 49]}], \"urls\": [{\"url\": \"https://t.co/QPVPF8taKR\", \"expanded_url\": \"https://apps.twitter.com/\", \"display_url\": \"apps.twitter.com\", \"indices\": [13, 36]}]}, \"source\": \"<a href=\\\"http://twitter.com\\\" rel=\\\"nofollow\\\">Twitter Web Client</a>\", \"in_reply_to_status_id\": null, \"in_reply_to_status_id_str\": null, \"in_reply_to_user_id\": null, \"in_reply_to_user_id_str\": null, \"in_reply_to_screen_name\": null, \"user\": {\"id\": 913446045853429761, \"id_str\": \"913446045853429761\", \"name\": \"venkat\", \"screen_name\": \"venkat72613578\", \"location\": \"\", \"description\": \"\", \"url\": null, \"entities\": {\"description\": {\"urls\": []}}, \"protected\": false, \"followers_count\": 1, \"friends_count\": 1, \"listed_count\": 0, \"created_at\": \"Thu Sep 28 16:51:23 +0000 2017\", \"favourites_count\": 0, \"utc_offset\": null, \"time_zone\": null, \"geo_enabled\": false, \"verified\": false, \"statuses_count\": 1, \"lang\": \"en\", \"contributors_enabled\": false, \"is_translator\": false, \"is_translation_enabled\": false, \"profile_background_color\": \"F5F8FA\", \"profile_background_image_url\": null, \"profile_background_image_url_https\": null, \"profile_background_tile\": false, \"profile_image_url\": \"http://abs.twimg.com/sticky/default_profile_images/default_profile_normal.png\", \"profile_image_url_https\": \"https://abs.twimg.com/sticky/default_profile_images/default_profile_normal.png\", \"profile_link_color\": \"1DA1F2\", \"profile_sidebar_border_color\": \"C0DEED\", \"profile_sidebar_fill_color\": \"DDEEF6\", \"profile_text_color\": \"333333\", \"profile_use_background_image\": true, \"has_extended_profile\": false, \"default_profile\": true, \"default_profile_image\": true, \"following\": false, \"follow_request_sent\": false, \"notifications\": false, \"translator_type\": \"none\"}, \"geo\": null, \"coordinates\": null, \"place\": null, \"contributors\": null, \"is_quote_status\": false, \"retweet_count\": 0, \"favorite_count\": 0, \"favorited\": false, \"retweeted\": false, \"possibly_sensitive\": false, \"possibly_sensitive_appealable\": false, \"lang\": \"en\"}\n",
      "Twitter Apps https://t.co/QPVPF8taKR via @twitter\n",
      "{\"created_at\": \"Wed Sep 27 15:59:56 +0000 2017\", \"id\": 913070714332180480, \"id_str\": \"913070714332180480\", \"text\": \"The ultimate recipe for banana bread success by @chrissyteigen. \\ud83c\\udf5e https://t.co/GIopSASySP\", \"truncated\": false, \"entities\": {\"hashtags\": [], \"symbols\": [], \"user_mentions\": [{\"screen_name\": \"chrissyteigen\", \"name\": \"christine teigen\", \"id\": 39364684, \"id_str\": \"39364684\", \"indices\": [48, 62]}], \"urls\": [], \"media\": [{\"id\": 913070554898296833, \"id_str\": \"913070554898296833\", \"indices\": [66, 89], \"media_url\": \"http://pbs.twimg.com/ext_tw_video_thumb/913070554898296833/pu/img/IPzV3udMGLIYo_JX.jpg\", \"media_url_https\": \"https://pbs.twimg.com/ext_tw_video_thumb/913070554898296833/pu/img/IPzV3udMGLIYo_JX.jpg\", \"url\": \"https://t.co/GIopSASySP\", \"display_url\": \"pic.twitter.com/GIopSASySP\", \"expanded_url\": \"https://twitter.com/Twitter/status/913070714332180480/video/1\", \"type\": \"photo\", \"sizes\": {\"small\": {\"w\": 340, \"h\": 340, \"resize\": \"fit\"}, \"thumb\": {\"w\": 150, \"h\": 150, \"resize\": \"crop\"}, \"medium\": {\"w\": 600, \"h\": 600, \"resize\": \"fit\"}, \"large\": {\"w\": 720, \"h\": 720, \"resize\": \"fit\"}}}]}, \"extended_entities\": {\"media\": [{\"id\": 913070554898296833, \"id_str\": \"913070554898296833\", \"indices\": [66, 89], \"media_url\": \"http://pbs.twimg.com/ext_tw_video_thumb/913070554898296833/pu/img/IPzV3udMGLIYo_JX.jpg\", \"media_url_https\": \"https://pbs.twimg.com/ext_tw_video_thumb/913070554898296833/pu/img/IPzV3udMGLIYo_JX.jpg\", \"url\": \"https://t.co/GIopSASySP\", \"display_url\": \"pic.twitter.com/GIopSASySP\", \"expanded_url\": \"https://twitter.com/Twitter/status/913070714332180480/video/1\", \"type\": \"video\", \"sizes\": {\"small\": {\"w\": 340, \"h\": 340, \"resize\": \"fit\"}, \"thumb\": {\"w\": 150, \"h\": 150, \"resize\": \"crop\"}, \"medium\": {\"w\": 600, \"h\": 600, \"resize\": \"fit\"}, \"large\": {\"w\": 720, \"h\": 720, \"resize\": \"fit\"}}, \"video_info\": {\"aspect_ratio\": [1, 1], \"duration_millis\": 40040, \"variants\": [{\"bitrate\": 832000, \"content_type\": \"video/mp4\", \"url\": \"https://video.twimg.com/ext_tw_video/913070554898296833/pu/vid/480x480/rBCdHe6wtoIx_tl0.mp4\"}, {\"bitrate\": 1280000, \"content_type\": \"video/mp4\", \"url\": \"https://video.twimg.com/ext_tw_video/913070554898296833/pu/vid/720x720/onDz3q3bjIEPO9a5.mp4\"}, {\"content_type\": \"application/x-mpegURL\", \"url\": \"https://video.twimg.com/ext_tw_video/913070554898296833/pu/pl/1YEuC8AAOMq-bwTe.m3u8\"}, {\"bitrate\": 320000, \"content_type\": \"video/mp4\", \"url\": \"https://video.twimg.com/ext_tw_video/913070554898296833/pu/vid/240x240/qp7nO6Tr97E4Nvis.mp4\"}]}, \"additional_media_info\": {\"monetizable\": false}}]}, \"source\": \"<a href=\\\"http://twitter.com\\\" rel=\\\"nofollow\\\">Twitter Web Client</a>\", \"in_reply_to_status_id\": null, \"in_reply_to_status_id_str\": null, \"in_reply_to_user_id\": null, \"in_reply_to_user_id_str\": null, \"in_reply_to_screen_name\": null, \"user\": {\"id\": 783214, \"id_str\": \"783214\", \"name\": \"Twitter\", \"screen_name\": \"Twitter\", \"location\": \"San Francisco, CA\", \"description\": \"Your official source for what\\u2019s happening.\\n\\nNeed a hand? Visit https://t.co/jTMg7YsLw5\", \"url\": \"https://t.co/gN5JJwhQy7\", \"entities\": {\"url\": {\"urls\": [{\"url\": \"https://t.co/gN5JJwhQy7\", \"expanded_url\": \"https://blog.twitter.com/\", \"display_url\": \"blog.twitter.com\", \"indices\": [0, 23]}]}, \"description\": {\"urls\": [{\"url\": \"https://t.co/jTMg7YsLw5\", \"expanded_url\": \"https://support.twitter.com\", \"display_url\": \"support.twitter.com\", \"indices\": [63, 86]}]}}, \"protected\": false, \"followers_count\": 62011829, \"friends_count\": 167, \"listed_count\": 90789, \"created_at\": \"Tue Feb 20 14:35:54 +0000 2007\", \"favourites_count\": 5169, \"utc_offset\": -25200, \"time_zone\": \"Pacific Time (US & Canada)\", \"geo_enabled\": true, \"verified\": true, \"statuses_count\": 6169, \"lang\": \"en\", \"contributors_enabled\": false, \"is_translator\": false, \"is_translation_enabled\": false, \"profile_background_color\": \"ACDED6\", \"profile_background_image_url\": \"http://pbs.twimg.com/profile_background_images/657090062/l1uqey5sy82r9ijhke1i.png\", \"profile_background_image_url_https\": \"https://pbs.twimg.com/profile_background_images/657090062/l1uqey5sy82r9ijhke1i.png\", \"profile_background_tile\": true, \"profile_image_url\": \"http://pbs.twimg.com/profile_images/875087697177567232/Qfy0kRIP_normal.jpg\", \"profile_image_url_https\": \"https://pbs.twimg.com/profile_images/875087697177567232/Qfy0kRIP_normal.jpg\", \"profile_banner_url\": \"https://pbs.twimg.com/profile_banners/783214/1503522865\", \"profile_link_color\": \"1B95E0\", \"profile_sidebar_border_color\": \"FFFFFF\", \"profile_sidebar_fill_color\": \"F6F6F6\", \"profile_text_color\": \"333333\", \"profile_use_background_image\": true, \"has_extended_profile\": true, \"default_profile\": false, \"default_profile_image\": false, \"following\": true, \"follow_request_sent\": false, \"notifications\": false, \"translator_type\": \"regular\"}, \"geo\": null, \"coordinates\": null, \"place\": null, \"contributors\": null, \"is_quote_status\": false, \"retweet_count\": 487, \"favorite_count\": 2670, \"favorited\": false, \"retweeted\": false, \"possibly_sensitive\": false, \"possibly_sensitive_appealable\": false, \"lang\": \"en\"}\n"
     ]
    },
    {
     "name": "stdout",
     "output_type": "stream",
     "text": [
      "{\"created_at\": \"Wed Sep 27 01:30:40 +0000 2017\", \"id\": 912851954665086977, \"id_str\": \"912851954665086977\", \"text\": \"RT @TwitterVideo: The #streamys are LIVE! \\n\\nWatch it now. \\n\\nLike now-now.\\u2b07\\ufe0f\\u2b07\\ufe0f\\n\\nhttps://t.co/iwoDiJ0JKC\", \"truncated\": false, \"entities\": {\"hashtags\": [{\"text\": \"streamys\", \"indices\": [22, 31]}], \"symbols\": [], \"user_mentions\": [{\"screen_name\": \"TwitterVideo\", \"name\": \"Twitter Video\", \"id\": 3282859598, \"id_str\": \"3282859598\", \"indices\": [3, 16]}], \"urls\": [{\"url\": \"https://t.co/iwoDiJ0JKC\", \"expanded_url\": \"https://twitter.com/i/live/890164212214845440\", \"display_url\": \"twitter.com/i/live/8901642\\u2026\", \"indices\": [79, 102]}]}, \"source\": \"<a href=\\\"http://twitter.com\\\" rel=\\\"nofollow\\\">Twitter Web Client</a>\", \"in_reply_to_status_id\": null, \"in_reply_to_status_id_str\": null, \"in_reply_to_user_id\": null, \"in_reply_to_user_id_str\": null, \"in_reply_to_screen_name\": null, \"user\": {\"id\": 783214, \"id_str\": \"783214\", \"name\": \"Twitter\", \"screen_name\": \"Twitter\", \"location\": \"San Francisco, CA\", \"description\": \"Your official source for what\\u2019s happening.\\n\\nNeed a hand? Visit https://t.co/jTMg7YsLw5\", \"url\": \"https://t.co/gN5JJwhQy7\", \"entities\": {\"url\": {\"urls\": [{\"url\": \"https://t.co/gN5JJwhQy7\", \"expanded_url\": \"https://blog.twitter.com/\", \"display_url\": \"blog.twitter.com\", \"indices\": [0, 23]}]}, \"description\": {\"urls\": [{\"url\": \"https://t.co/jTMg7YsLw5\", \"expanded_url\": \"https://support.twitter.com\", \"display_url\": \"support.twitter.com\", \"indices\": [63, 86]}]}}, \"protected\": false, \"followers_count\": 62011829, \"friends_count\": 167, \"listed_count\": 90789, \"created_at\": \"Tue Feb 20 14:35:54 +0000 2007\", \"favourites_count\": 5169, \"utc_offset\": -25200, \"time_zone\": \"Pacific Time (US & Canada)\", \"geo_enabled\": true, \"verified\": true, \"statuses_count\": 6169, \"lang\": \"en\", \"contributors_enabled\": false, \"is_translator\": false, \"is_translation_enabled\": false, \"profile_background_color\": \"ACDED6\", \"profile_background_image_url\": \"http://pbs.twimg.com/profile_background_images/657090062/l1uqey5sy82r9ijhke1i.png\", \"profile_background_image_url_https\": \"https://pbs.twimg.com/profile_background_images/657090062/l1uqey5sy82r9ijhke1i.png\", \"profile_background_tile\": true, \"profile_image_url\": \"http://pbs.twimg.com/profile_images/875087697177567232/Qfy0kRIP_normal.jpg\", \"profile_image_url_https\": \"https://pbs.twimg.com/profile_images/875087697177567232/Qfy0kRIP_normal.jpg\", \"profile_banner_url\": \"https://pbs.twimg.com/profile_banners/783214/1503522865\", \"profile_link_color\": \"1B95E0\", \"profile_sidebar_border_color\": \"FFFFFF\", \"profile_sidebar_fill_color\": \"F6F6F6\", \"profile_text_color\": \"333333\", \"profile_use_background_image\": true, \"has_extended_profile\": true, \"default_profile\": false, \"default_profile_image\": false, \"following\": true, \"follow_request_sent\": false, \"notifications\": false, \"translator_type\": \"regular\"}, \"geo\": null, \"coordinates\": null, \"place\": null, \"contributors\": null, \"retweeted_status\": {\"created_at\": \"Wed Sep 27 01:30:00 +0000 2017\", \"id\": 912851787408797696, \"id_str\": \"912851787408797696\", \"text\": \"The #streamys are LIVE! \\n\\nWatch it now. \\n\\nLike now-now.\\u2b07\\ufe0f\\u2b07\\ufe0f\\n\\nhttps://t.co/iwoDiJ0JKC\", \"truncated\": false, \"entities\": {\"hashtags\": [{\"text\": \"streamys\", \"indices\": [4, 13]}], \"symbols\": [], \"user_mentions\": [], \"urls\": [{\"url\": \"https://t.co/iwoDiJ0JKC\", \"expanded_url\": \"https://twitter.com/i/live/890164212214845440\", \"display_url\": \"twitter.com/i/live/8901642\\u2026\", \"indices\": [61, 84]}]}, \"source\": \"<a href=\\\"https://about.twitter.com/products/tweetdeck\\\" rel=\\\"nofollow\\\">TweetDeck</a>\", \"in_reply_to_status_id\": null, \"in_reply_to_status_id_str\": null, \"in_reply_to_user_id\": null, \"in_reply_to_user_id_str\": null, \"in_reply_to_screen_name\": null, \"user\": {\"id\": 3282859598, \"id_str\": \"3282859598\", \"name\": \"Twitter Video\", \"screen_name\": \"TwitterVideo\", \"location\": \"\", \"description\": \"Showing some of the best vids on @Twitter.\", \"url\": null, \"entities\": {\"description\": {\"urls\": []}}, \"protected\": false, \"followers_count\": 17022488, \"friends_count\": 958, \"listed_count\": 1589, \"created_at\": \"Sat Jul 18 00:54:11 +0000 2015\", \"favourites_count\": 8535, \"utc_offset\": -25200, \"time_zone\": \"Pacific Time (US & Canada)\", \"geo_enabled\": true, \"verified\": true, \"statuses_count\": 5920, \"lang\": \"en\", \"contributors_enabled\": false, \"is_translator\": false, \"is_translation_enabled\": false, \"profile_background_color\": \"C0DEED\", \"profile_background_image_url\": \"http://abs.twimg.com/images/themes/theme1/bg.png\", \"profile_background_image_url_https\": \"https://abs.twimg.com/images/themes/theme1/bg.png\", \"profile_background_tile\": false, \"profile_image_url\": \"http://pbs.twimg.com/profile_images/838917089616261120/UyQk9bC6_normal.jpg\", \"profile_image_url_https\": \"https://pbs.twimg.com/profile_images/838917089616261120/UyQk9bC6_normal.jpg\", \"profile_banner_url\": \"https://pbs.twimg.com/profile_banners/3282859598/1498520546\", \"profile_link_color\": \"1DA1F2\", \"profile_sidebar_border_color\": \"C0DEED\", \"profile_sidebar_fill_color\": \"DDEEF6\", \"profile_text_color\": \"333333\", \"profile_use_background_image\": true, \"has_extended_profile\": false, \"default_profile\": true, \"default_profile_image\": false, \"following\": false, \"follow_request_sent\": false, \"notifications\": false, \"translator_type\": \"none\"}, \"geo\": null, \"coordinates\": null, \"place\": null, \"contributors\": null, \"is_quote_status\": false, \"retweet_count\": 113, \"favorite_count\": 556, \"favorited\": false, \"retweeted\": false, \"possibly_sensitive\": false, \"possibly_sensitive_appealable\": false, \"lang\": \"en\"}, \"is_quote_status\": false, \"retweet_count\": 113, \"favorite_count\": 0, \"favorited\": false, \"retweeted\": false, \"possibly_sensitive\": false, \"possibly_sensitive_appealable\": false, \"lang\": \"en\"}\n",
      "RT @TwitterVideo: The #streamys are LIVE! \n",
      "\n",
      "Watch it now. \n",
      "\n",
      "Like now-now.⬇️⬇️\n",
      "\n",
      "https://t.co/iwoDiJ0JKC\n",
      "{\"created_at\": \"Tue Sep 26 21:00:22 +0000 2017\", \"id\": 912783930431905797, \"id_str\": \"912783930431905797\", \"text\": \"Can\\u2019t fit your Tweet into 140 characters? \\ud83e\\udd14\\n\\nWe\\u2019re trying something new with a small group, and increasing the char\\u2026 https://t.co/y1rJlHsVB5\", \"truncated\": true, \"entities\": {\"hashtags\": [], \"symbols\": [], \"user_mentions\": [], \"urls\": [{\"url\": \"https://t.co/y1rJlHsVB5\", \"expanded_url\": \"https://twitter.com/i/web/status/912783930431905797\", \"display_url\": \"twitter.com/i/web/status/9\\u2026\", \"indices\": [117, 140]}]}, \"source\": \"<a href=\\\"http://twitter.com\\\" rel=\\\"nofollow\\\">Twitter Web Client</a>\", \"in_reply_to_status_id\": null, \"in_reply_to_status_id_str\": null, \"in_reply_to_user_id\": null, \"in_reply_to_user_id_str\": null, \"in_reply_to_screen_name\": null, \"user\": {\"id\": 783214, \"id_str\": \"783214\", \"name\": \"Twitter\", \"screen_name\": \"Twitter\", \"location\": \"San Francisco, CA\", \"description\": \"Your official source for what\\u2019s happening.\\n\\nNeed a hand? Visit https://t.co/jTMg7YsLw5\", \"url\": \"https://t.co/gN5JJwhQy7\", \"entities\": {\"url\": {\"urls\": [{\"url\": \"https://t.co/gN5JJwhQy7\", \"expanded_url\": \"https://blog.twitter.com/\", \"display_url\": \"blog.twitter.com\", \"indices\": [0, 23]}]}, \"description\": {\"urls\": [{\"url\": \"https://t.co/jTMg7YsLw5\", \"expanded_url\": \"https://support.twitter.com\", \"display_url\": \"support.twitter.com\", \"indices\": [63, 86]}]}}, \"protected\": false, \"followers_count\": 62011829, \"friends_count\": 167, \"listed_count\": 90789, \"created_at\": \"Tue Feb 20 14:35:54 +0000 2007\", \"favourites_count\": 5169, \"utc_offset\": -25200, \"time_zone\": \"Pacific Time (US & Canada)\", \"geo_enabled\": true, \"verified\": true, \"statuses_count\": 6169, \"lang\": \"en\", \"contributors_enabled\": false, \"is_translator\": false, \"is_translation_enabled\": false, \"profile_background_color\": \"ACDED6\", \"profile_background_image_url\": \"http://pbs.twimg.com/profile_background_images/657090062/l1uqey5sy82r9ijhke1i.png\", \"profile_background_image_url_https\": \"https://pbs.twimg.com/profile_background_images/657090062/l1uqey5sy82r9ijhke1i.png\", \"profile_background_tile\": true, \"profile_image_url\": \"http://pbs.twimg.com/profile_images/875087697177567232/Qfy0kRIP_normal.jpg\", \"profile_image_url_https\": \"https://pbs.twimg.com/profile_images/875087697177567232/Qfy0kRIP_normal.jpg\", \"profile_banner_url\": \"https://pbs.twimg.com/profile_banners/783214/1503522865\", \"profile_link_color\": \"1B95E0\", \"profile_sidebar_border_color\": \"FFFFFF\", \"profile_sidebar_fill_color\": \"F6F6F6\", \"profile_text_color\": \"333333\", \"profile_use_background_image\": true, \"has_extended_profile\": true, \"default_profile\": false, \"default_profile_image\": false, \"following\": true, \"follow_request_sent\": false, \"notifications\": false, \"translator_type\": \"regular\"}, \"geo\": null, \"coordinates\": null, \"place\": null, \"contributors\": null, \"is_quote_status\": false, \"retweet_count\": 54715, \"favorite_count\": 95866, \"favorited\": false, \"retweeted\": false, \"possibly_sensitive\": false, \"possibly_sensitive_appealable\": false, \"lang\": \"en\"}\n"
     ]
    },
    {
     "name": "stdout",
     "output_type": "stream",
     "text": [
      "{\"created_at\": \"Tue Sep 26 14:07:24 +0000 2017\", \"id\": 912680006127628289, \"id_str\": \"912680006127628289\", \"text\": \"RT @TwitterTV: Changing seasons \\ud83c\\udf43 = New seasons \\ud83d\\udc40\\n\\nTell us the #Top5 shows you\\u2019re most looking forward to this fall.\", \"truncated\": false, \"entities\": {\"hashtags\": [{\"text\": \"Top5\", \"indices\": [63, 68]}], \"symbols\": [], \"user_mentions\": [{\"screen_name\": \"TwitterTV\", \"name\": \"Twitter TV\", \"id\": 586198217, \"id_str\": \"586198217\", \"indices\": [3, 13]}], \"urls\": []}, \"source\": \"<a href=\\\"http://twitter.com\\\" rel=\\\"nofollow\\\">Twitter Web Client</a>\", \"in_reply_to_status_id\": null, \"in_reply_to_status_id_str\": null, \"in_reply_to_user_id\": null, \"in_reply_to_user_id_str\": null, \"in_reply_to_screen_name\": null, \"user\": {\"id\": 783214, \"id_str\": \"783214\", \"name\": \"Twitter\", \"screen_name\": \"Twitter\", \"location\": \"San Francisco, CA\", \"description\": \"Your official source for what\\u2019s happening.\\n\\nNeed a hand? Visit https://t.co/jTMg7YsLw5\", \"url\": \"https://t.co/gN5JJwhQy7\", \"entities\": {\"url\": {\"urls\": [{\"url\": \"https://t.co/gN5JJwhQy7\", \"expanded_url\": \"https://blog.twitter.com/\", \"display_url\": \"blog.twitter.com\", \"indices\": [0, 23]}]}, \"description\": {\"urls\": [{\"url\": \"https://t.co/jTMg7YsLw5\", \"expanded_url\": \"https://support.twitter.com\", \"display_url\": \"support.twitter.com\", \"indices\": [63, 86]}]}}, \"protected\": false, \"followers_count\": 62011829, \"friends_count\": 167, \"listed_count\": 90789, \"created_at\": \"Tue Feb 20 14:35:54 +0000 2007\", \"favourites_count\": 5169, \"utc_offset\": -25200, \"time_zone\": \"Pacific Time (US & Canada)\", \"geo_enabled\": true, \"verified\": true, \"statuses_count\": 6169, \"lang\": \"en\", \"contributors_enabled\": false, \"is_translator\": false, \"is_translation_enabled\": false, \"profile_background_color\": \"ACDED6\", \"profile_background_image_url\": \"http://pbs.twimg.com/profile_background_images/657090062/l1uqey5sy82r9ijhke1i.png\", \"profile_background_image_url_https\": \"https://pbs.twimg.com/profile_background_images/657090062/l1uqey5sy82r9ijhke1i.png\", \"profile_background_tile\": true, \"profile_image_url\": \"http://pbs.twimg.com/profile_images/875087697177567232/Qfy0kRIP_normal.jpg\", \"profile_image_url_https\": \"https://pbs.twimg.com/profile_images/875087697177567232/Qfy0kRIP_normal.jpg\", \"profile_banner_url\": \"https://pbs.twimg.com/profile_banners/783214/1503522865\", \"profile_link_color\": \"1B95E0\", \"profile_sidebar_border_color\": \"FFFFFF\", \"profile_sidebar_fill_color\": \"F6F6F6\", \"profile_text_color\": \"333333\", \"profile_use_background_image\": true, \"has_extended_profile\": true, \"default_profile\": false, \"default_profile_image\": false, \"following\": true, \"follow_request_sent\": false, \"notifications\": false, \"translator_type\": \"regular\"}, \"geo\": null, \"coordinates\": null, \"place\": null, \"contributors\": null, \"retweeted_status\": {\"created_at\": \"Tue Sep 26 14:01:50 +0000 2017\", \"id\": 912678602503868417, \"id_str\": \"912678602503868417\", \"text\": \"Changing seasons \\ud83c\\udf43 = New seasons \\ud83d\\udc40\\n\\nTell us the #Top5 shows you\\u2019re most looking forward to this fall.\", \"truncated\": false, \"entities\": {\"hashtags\": [{\"text\": \"Top5\", \"indices\": [48, 53]}], \"symbols\": [], \"user_mentions\": [], \"urls\": []}, \"source\": \"<a href=\\\"http://twitter.com\\\" rel=\\\"nofollow\\\">Twitter Web Client</a>\", \"in_reply_to_status_id\": null, \"in_reply_to_status_id_str\": null, \"in_reply_to_user_id\": null, \"in_reply_to_user_id_str\": null, \"in_reply_to_screen_name\": null, \"user\": {\"id\": 586198217, \"id_str\": \"586198217\", \"name\": \"Twitter TV\", \"screen_name\": \"TwitterTV\", \"location\": \"\", \"description\": \"TV related Tweets from our couch.\", \"url\": null, \"entities\": {\"description\": {\"urls\": []}}, \"protected\": false, \"followers_count\": 9654017, \"friends_count\": 1675, \"listed_count\": 3299, \"created_at\": \"Mon May 21 03:07:38 +0000 2012\", \"favourites_count\": 6510, \"utc_offset\": -25200, \"time_zone\": \"Pacific Time (US & Canada)\", \"geo_enabled\": true, \"verified\": true, \"statuses_count\": 15069, \"lang\": \"en\", \"contributors_enabled\": false, \"is_translator\": false, \"is_translation_enabled\": false, \"profile_background_color\": \"C0DEED\", \"profile_background_image_url\": \"http://pbs.twimg.com/profile_background_images/656936539/af8i1j1p2mqpjyhrefwi.png\", \"profile_background_image_url_https\": \"https://pbs.twimg.com/profile_background_images/656936539/af8i1j1p2mqpjyhrefwi.png\", \"profile_background_tile\": true, \"profile_image_url\": \"http://pbs.twimg.com/profile_images/875133552253218816/XWqDdiHv_normal.jpg\", \"profile_image_url_https\": \"https://pbs.twimg.com/profile_images/875133552253218816/XWqDdiHv_normal.jpg\", \"profile_banner_url\": \"https://pbs.twimg.com/profile_banners/586198217/1495588939\", \"profile_link_color\": \"0084B4\", \"profile_sidebar_border_color\": \"FFFFFF\", \"profile_sidebar_fill_color\": \"DDEEF6\", \"profile_text_color\": \"333333\", \"profile_use_background_image\": true, \"has_extended_profile\": true, \"default_profile\": false, \"default_profile_image\": false, \"following\": false, \"follow_request_sent\": false, \"notifications\": false, \"translator_type\": \"none\"}, \"geo\": null, \"coordinates\": null, \"place\": null, \"contributors\": null, \"is_quote_status\": false, \"retweet_count\": 54, \"favorite_count\": 347, \"favorited\": false, \"retweeted\": false, \"lang\": \"en\"}, \"is_quote_status\": false, \"retweet_count\": 54, \"favorite_count\": 0, \"favorited\": false, \"retweeted\": false, \"lang\": \"en\"}\n",
      "RT @TwitterTV: Changing seasons 🍃 = New seasons 👀\n",
      "\n",
      "Tell us the #Top5 shows you’re most looking forward to this fall.\n",
      "{\"created_at\": \"Mon Sep 25 14:19:32 +0000 2017\", \"id\": 912320669890875395, \"id_str\": \"912320669890875395\", \"text\": \"RT @TwitterNews: Starting now.\\n\\n@AM2DM is LIVE on Twitter. Tune in at https://t.co/xmE0wmy5m1. \\ud83d\\udc47\", \"truncated\": false, \"entities\": {\"hashtags\": [], \"symbols\": [], \"user_mentions\": [{\"screen_name\": \"TwitterNews\", \"name\": \"Twitter News\", \"id\": 372575989, \"id_str\": \"372575989\", \"indices\": [3, 15]}, {\"screen_name\": \"AM2DM\", \"name\": \"AM to DM\", \"id\": 897565399771992064, \"id_str\": \"897565399771992064\", \"indices\": [32, 38]}], \"urls\": [{\"url\": \"https://t.co/xmE0wmy5m1\", \"expanded_url\": \"https://buzzfeed.twitter.com\", \"display_url\": \"buzzfeed.twitter.com\", \"indices\": [70, 93]}]}, \"source\": \"<a href=\\\"http://twitter.com\\\" rel=\\\"nofollow\\\">Twitter Web Client</a>\", \"in_reply_to_status_id\": null, \"in_reply_to_status_id_str\": null, \"in_reply_to_user_id\": null, \"in_reply_to_user_id_str\": null, \"in_reply_to_screen_name\": null, \"user\": {\"id\": 783214, \"id_str\": \"783214\", \"name\": \"Twitter\", \"screen_name\": \"Twitter\", \"location\": \"San Francisco, CA\", \"description\": \"Your official source for what\\u2019s happening.\\n\\nNeed a hand? Visit https://t.co/jTMg7YsLw5\", \"url\": \"https://t.co/gN5JJwhQy7\", \"entities\": {\"url\": {\"urls\": [{\"url\": \"https://t.co/gN5JJwhQy7\", \"expanded_url\": \"https://blog.twitter.com/\", \"display_url\": \"blog.twitter.com\", \"indices\": [0, 23]}]}, \"description\": {\"urls\": [{\"url\": \"https://t.co/jTMg7YsLw5\", \"expanded_url\": \"https://support.twitter.com\", \"display_url\": \"support.twitter.com\", \"indices\": [63, 86]}]}}, \"protected\": false, \"followers_count\": 62011829, \"friends_count\": 167, \"listed_count\": 90789, \"created_at\": \"Tue Feb 20 14:35:54 +0000 2007\", \"favourites_count\": 5169, \"utc_offset\": -25200, \"time_zone\": \"Pacific Time (US & Canada)\", \"geo_enabled\": true, \"verified\": true, \"statuses_count\": 6169, \"lang\": \"en\", \"contributors_enabled\": false, \"is_translator\": false, \"is_translation_enabled\": false, \"profile_background_color\": \"ACDED6\", \"profile_background_image_url\": \"http://pbs.twimg.com/profile_background_images/657090062/l1uqey5sy82r9ijhke1i.png\", \"profile_background_image_url_https\": \"https://pbs.twimg.com/profile_background_images/657090062/l1uqey5sy82r9ijhke1i.png\", \"profile_background_tile\": true, \"profile_image_url\": \"http://pbs.twimg.com/profile_images/875087697177567232/Qfy0kRIP_normal.jpg\", \"profile_image_url_https\": \"https://pbs.twimg.com/profile_images/875087697177567232/Qfy0kRIP_normal.jpg\", \"profile_banner_url\": \"https://pbs.twimg.com/profile_banners/783214/1503522865\", \"profile_link_color\": \"1B95E0\", \"profile_sidebar_border_color\": \"FFFFFF\", \"profile_sidebar_fill_color\": \"F6F6F6\", \"profile_text_color\": \"333333\", \"profile_use_background_image\": true, \"has_extended_profile\": true, \"default_profile\": false, \"default_profile_image\": false, \"following\": true, \"follow_request_sent\": false, \"notifications\": false, \"translator_type\": \"regular\"}, \"geo\": null, \"coordinates\": null, \"place\": null, \"contributors\": null, \"retweeted_status\": {\"created_at\": \"Mon Sep 25 14:00:05 +0000 2017\", \"id\": 912315773472825344, \"id_str\": \"912315773472825344\", \"text\": \"Starting now.\\n\\n@AM2DM is LIVE on Twitter. Tune in at https://t.co/xmE0wmy5m1. \\ud83d\\udc47\", \"truncated\": false, \"entities\": {\"hashtags\": [], \"symbols\": [], \"user_mentions\": [{\"screen_name\": \"AM2DM\", \"name\": \"AM to DM\", \"id\": 897565399771992064, \"id_str\": \"897565399771992064\", \"indices\": [15, 21]}], \"urls\": [{\"url\": \"https://t.co/xmE0wmy5m1\", \"expanded_url\": \"https://buzzfeed.twitter.com\", \"display_url\": \"buzzfeed.twitter.com\", \"indices\": [53, 76]}]}, \"source\": \"<a href=\\\"https://about.twitter.com/products/tweetdeck\\\" rel=\\\"nofollow\\\">TweetDeck</a>\", \"in_reply_to_status_id\": null, \"in_reply_to_status_id_str\": null, \"in_reply_to_user_id\": null, \"in_reply_to_user_id_str\": null, \"in_reply_to_screen_name\": null, \"user\": {\"id\": 372575989, \"id_str\": \"372575989\", \"name\": \"Twitter News\", \"screen_name\": \"TwitterNews\", \"location\": \"Newsrooms everywhere\", \"description\": \"Spotlighting best practices and innovative uses of Twitter by journalists and newsrooms.\", \"url\": \"https://t.co/ZJ2tqfNy3t\", \"entities\": {\"url\": {\"urls\": [{\"url\": \"https://t.co/ZJ2tqfNy3t\", \"expanded_url\": \"https://media.twitter.com/news\", \"display_url\": \"media.twitter.com/news\", \"indices\": [0, 23]}]}, \"description\": {\"urls\": []}}, \"protected\": false, \"followers_count\": 2921422, \"friends_count\": 28, \"listed_count\": 5585, \"created_at\": \"Tue Sep 13 01:06:02 +0000 2011\", \"favourites_count\": 187, \"utc_offset\": -25200, \"time_zone\": \"Pacific Time (US & Canada)\", \"geo_enabled\": false, \"verified\": true, \"statuses_count\": 3136, \"lang\": \"en\", \"contributors_enabled\": false, \"is_translator\": false, \"is_translation_enabled\": false, \"profile_background_color\": \"C0DEED\", \"profile_background_image_url\": \"http://pbs.twimg.com/profile_background_images/656932469/xo4xip2rrkl3xibsrboe.png\", \"profile_background_image_url_https\": \"https://pbs.twimg.com/profile_background_images/656932469/xo4xip2rrkl3xibsrboe.png\", \"profile_background_tile\": true, \"profile_image_url\": \"http://pbs.twimg.com/profile_images/875126165597372416/NXVpRuG2_normal.jpg\", \"profile_image_url_https\": \"https://pbs.twimg.com/profile_images/875126165597372416/NXVpRuG2_normal.jpg\", \"profile_banner_url\": \"https://pbs.twimg.com/profile_banners/372575989/1493929481\", \"profile_link_color\": \"0084B4\", \"profile_sidebar_border_color\": \"C0DEED\", \"profile_sidebar_fill_color\": \"DDEEF6\", \"profile_text_color\": \"333333\", \"profile_use_background_image\": true, \"has_extended_profile\": false, \"default_profile\": false, \"default_profile_image\": false, \"following\": false, \"follow_request_sent\": false, \"notifications\": false, \"translator_type\": \"none\"}, \"geo\": null, \"coordinates\": null, \"place\": null, \"contributors\": null, \"is_quote_status\": false, \"retweet_count\": 159, \"favorite_count\": 875, \"favorited\": false, \"retweeted\": false, \"possibly_sensitive\": false, \"possibly_sensitive_appealable\": false, \"lang\": \"en\"}, \"is_quote_status\": false, \"retweet_count\": 159, \"favorite_count\": 0, \"favorited\": false, \"retweeted\": false, \"possibly_sensitive\": false, \"possibly_sensitive_appealable\": false, \"lang\": \"en\"}\n"
     ]
    },
    {
     "name": "stdout",
     "output_type": "stream",
     "text": [
      "{\"created_at\": \"Sun Sep 24 00:28:01 +0000 2017\", \"id\": 911749024037900288, \"id_str\": \"911749024037900288\", \"text\": \"RT @TwitterMusic: You can feel it all over. \\ud83c\\udfb9 \\n\\nStevie Wonder and @Pharrell are rocking the stage at @GlblCtzn LIVE now. https://t.co/8Vtbq\\u2026\", \"truncated\": false, \"entities\": {\"hashtags\": [], \"symbols\": [], \"user_mentions\": [{\"screen_name\": \"TwitterMusic\", \"name\": \"Twitter Music\", \"id\": 373471064, \"id_str\": \"373471064\", \"indices\": [3, 16]}, {\"screen_name\": \"Pharrell\", \"name\": \"Pharrell Williams\", \"id\": 338084918, \"id_str\": \"338084918\", \"indices\": [66, 75]}, {\"screen_name\": \"GlblCtzn\", \"name\": \"Global Citizen\", \"id\": 596893898, \"id_str\": \"596893898\", \"indices\": [101, 110]}], \"urls\": []}, \"source\": \"<a href=\\\"http://twitter.com/download/iphone\\\" rel=\\\"nofollow\\\">Twitter for iPhone</a>\", \"in_reply_to_status_id\": null, \"in_reply_to_status_id_str\": null, \"in_reply_to_user_id\": null, \"in_reply_to_user_id_str\": null, \"in_reply_to_screen_name\": null, \"user\": {\"id\": 783214, \"id_str\": \"783214\", \"name\": \"Twitter\", \"screen_name\": \"Twitter\", \"location\": \"San Francisco, CA\", \"description\": \"Your official source for what\\u2019s happening.\\n\\nNeed a hand? Visit https://t.co/jTMg7YsLw5\", \"url\": \"https://t.co/gN5JJwhQy7\", \"entities\": {\"url\": {\"urls\": [{\"url\": \"https://t.co/gN5JJwhQy7\", \"expanded_url\": \"https://blog.twitter.com/\", \"display_url\": \"blog.twitter.com\", \"indices\": [0, 23]}]}, \"description\": {\"urls\": [{\"url\": \"https://t.co/jTMg7YsLw5\", \"expanded_url\": \"https://support.twitter.com\", \"display_url\": \"support.twitter.com\", \"indices\": [63, 86]}]}}, \"protected\": false, \"followers_count\": 62011829, \"friends_count\": 167, \"listed_count\": 90789, \"created_at\": \"Tue Feb 20 14:35:54 +0000 2007\", \"favourites_count\": 5169, \"utc_offset\": -25200, \"time_zone\": \"Pacific Time (US & Canada)\", \"geo_enabled\": true, \"verified\": true, \"statuses_count\": 6169, \"lang\": \"en\", \"contributors_enabled\": false, \"is_translator\": false, \"is_translation_enabled\": false, \"profile_background_color\": \"ACDED6\", \"profile_background_image_url\": \"http://pbs.twimg.com/profile_background_images/657090062/l1uqey5sy82r9ijhke1i.png\", \"profile_background_image_url_https\": \"https://pbs.twimg.com/profile_background_images/657090062/l1uqey5sy82r9ijhke1i.png\", \"profile_background_tile\": true, \"profile_image_url\": \"http://pbs.twimg.com/profile_images/875087697177567232/Qfy0kRIP_normal.jpg\", \"profile_image_url_https\": \"https://pbs.twimg.com/profile_images/875087697177567232/Qfy0kRIP_normal.jpg\", \"profile_banner_url\": \"https://pbs.twimg.com/profile_banners/783214/1503522865\", \"profile_link_color\": \"1B95E0\", \"profile_sidebar_border_color\": \"FFFFFF\", \"profile_sidebar_fill_color\": \"F6F6F6\", \"profile_text_color\": \"333333\", \"profile_use_background_image\": true, \"has_extended_profile\": true, \"default_profile\": false, \"default_profile_image\": false, \"following\": true, \"follow_request_sent\": false, \"notifications\": false, \"translator_type\": \"regular\"}, \"geo\": null, \"coordinates\": null, \"place\": null, \"contributors\": null, \"retweeted_status\": {\"created_at\": \"Sun Sep 24 00:25:17 +0000 2017\", \"id\": 911748334385328128, \"id_str\": \"911748334385328128\", \"text\": \"You can feel it all over. \\ud83c\\udfb9 \\n\\nStevie Wonder and @Pharrell are rocking the stage at @GlblCtzn LIVE now. https://t.co/8VtbqXFwt5\", \"truncated\": false, \"entities\": {\"hashtags\": [], \"symbols\": [], \"user_mentions\": [{\"screen_name\": \"Pharrell\", \"name\": \"Pharrell Williams\", \"id\": 338084918, \"id_str\": \"338084918\", \"indices\": [48, 57]}, {\"screen_name\": \"GlblCtzn\", \"name\": \"Global Citizen\", \"id\": 596893898, \"id_str\": \"596893898\", \"indices\": [83, 92]}], \"urls\": [{\"url\": \"https://t.co/8VtbqXFwt5\", \"expanded_url\": \"https://twitter.com/i/live/902627868961792000\", \"display_url\": \"twitter.com/i/live/9026278\\u2026\", \"indices\": [103, 126]}]}, \"source\": \"<a href=\\\"http://twitter.com\\\" rel=\\\"nofollow\\\">Twitter Web Client</a>\", \"in_reply_to_status_id\": null, \"in_reply_to_status_id_str\": null, \"in_reply_to_user_id\": null, \"in_reply_to_user_id_str\": null, \"in_reply_to_screen_name\": null, \"user\": {\"id\": 373471064, \"id_str\": \"373471064\", \"name\": \"Twitter Music\", \"screen_name\": \"TwitterMusic\", \"location\": \"Twitter HQ\", \"description\": \"Music related Tweets from around the world.\", \"url\": null, \"entities\": {\"description\": {\"urls\": []}}, \"protected\": false, \"followers_count\": 12248413, \"friends_count\": 365, \"listed_count\": 10910, \"created_at\": \"Wed Sep 14 16:50:47 +0000 2011\", \"favourites_count\": 2265, \"utc_offset\": -36000, \"time_zone\": \"Hawaii\", \"geo_enabled\": true, \"verified\": true, \"statuses_count\": 13824, \"lang\": \"en\", \"contributors_enabled\": false, \"is_translator\": false, \"is_translation_enabled\": false, \"profile_background_color\": \"131516\", \"profile_background_image_url\": \"http://abs.twimg.com/images/themes/theme14/bg.gif\", \"profile_background_image_url_https\": \"https://abs.twimg.com/images/themes/theme14/bg.gif\", \"profile_background_tile\": true, \"profile_image_url\": \"http://pbs.twimg.com/profile_images/875133023347326977/rj-yK2x3_normal.jpg\", \"profile_image_url_https\": \"https://pbs.twimg.com/profile_images/875133023347326977/rj-yK2x3_normal.jpg\", \"profile_banner_url\": \"https://pbs.twimg.com/profile_banners/373471064/1494446409\", \"profile_link_color\": \"009999\", \"profile_sidebar_border_color\": \"000000\", \"profile_sidebar_fill_color\": \"EFEFEF\", \"profile_text_color\": \"333333\", \"profile_use_background_image\": true, \"has_extended_profile\": false, \"default_profile\": false, \"default_profile_image\": false, \"following\": false, \"follow_request_sent\": false, \"notifications\": false, \"translator_type\": \"none\"}, \"geo\": null, \"coordinates\": null, \"place\": null, \"contributors\": null, \"is_quote_status\": false, \"retweet_count\": 153, \"favorite_count\": 472, \"favorited\": false, \"retweeted\": false, \"possibly_sensitive\": false, \"possibly_sensitive_appealable\": false, \"lang\": \"en\"}, \"is_quote_status\": false, \"retweet_count\": 153, \"favorite_count\": 0, \"favorited\": false, \"retweeted\": false, \"lang\": \"en\"}\n",
      "RT @TwitterMusic: You can feel it all over. 🎹 \n",
      "\n",
      "Stevie Wonder and @Pharrell are rocking the stage at @GlblCtzn LIVE now. https://t.co/8Vtbq…\n",
      "{\"created_at\": \"Sat Sep 23 20:00:50 +0000 2017\", \"id\": 911681784735203329, \"id_str\": \"911681784735203329\", \"text\": \"RT @TwitterMusic: Turning music into a movement.\\n\\nThe @GlblCtzn Festival is streaming LIVE on Twitter. https://t.co/8VtbqXFwt5\", \"truncated\": false, \"entities\": {\"hashtags\": [], \"symbols\": [], \"user_mentions\": [{\"screen_name\": \"TwitterMusic\", \"name\": \"Twitter Music\", \"id\": 373471064, \"id_str\": \"373471064\", \"indices\": [3, 16]}, {\"screen_name\": \"GlblCtzn\", \"name\": \"Global Citizen\", \"id\": 596893898, \"id_str\": \"596893898\", \"indices\": [54, 63]}], \"urls\": [{\"url\": \"https://t.co/8VtbqXFwt5\", \"expanded_url\": \"https://twitter.com/i/live/902627868961792000\", \"display_url\": \"twitter.com/i/live/9026278\\u2026\", \"indices\": [103, 126]}]}, \"source\": \"<a href=\\\"http://twitter.com\\\" rel=\\\"nofollow\\\">Twitter Web Client</a>\", \"in_reply_to_status_id\": null, \"in_reply_to_status_id_str\": null, \"in_reply_to_user_id\": null, \"in_reply_to_user_id_str\": null, \"in_reply_to_screen_name\": null, \"user\": {\"id\": 783214, \"id_str\": \"783214\", \"name\": \"Twitter\", \"screen_name\": \"Twitter\", \"location\": \"San Francisco, CA\", \"description\": \"Your official source for what\\u2019s happening.\\n\\nNeed a hand? Visit https://t.co/jTMg7YsLw5\", \"url\": \"https://t.co/gN5JJwhQy7\", \"entities\": {\"url\": {\"urls\": [{\"url\": \"https://t.co/gN5JJwhQy7\", \"expanded_url\": \"https://blog.twitter.com/\", \"display_url\": \"blog.twitter.com\", \"indices\": [0, 23]}]}, \"description\": {\"urls\": [{\"url\": \"https://t.co/jTMg7YsLw5\", \"expanded_url\": \"https://support.twitter.com\", \"display_url\": \"support.twitter.com\", \"indices\": [63, 86]}]}}, \"protected\": false, \"followers_count\": 62011829, \"friends_count\": 167, \"listed_count\": 90789, \"created_at\": \"Tue Feb 20 14:35:54 +0000 2007\", \"favourites_count\": 5169, \"utc_offset\": -25200, \"time_zone\": \"Pacific Time (US & Canada)\", \"geo_enabled\": true, \"verified\": true, \"statuses_count\": 6169, \"lang\": \"en\", \"contributors_enabled\": false, \"is_translator\": false, \"is_translation_enabled\": false, \"profile_background_color\": \"ACDED6\", \"profile_background_image_url\": \"http://pbs.twimg.com/profile_background_images/657090062/l1uqey5sy82r9ijhke1i.png\", \"profile_background_image_url_https\": \"https://pbs.twimg.com/profile_background_images/657090062/l1uqey5sy82r9ijhke1i.png\", \"profile_background_tile\": true, \"profile_image_url\": \"http://pbs.twimg.com/profile_images/875087697177567232/Qfy0kRIP_normal.jpg\", \"profile_image_url_https\": \"https://pbs.twimg.com/profile_images/875087697177567232/Qfy0kRIP_normal.jpg\", \"profile_banner_url\": \"https://pbs.twimg.com/profile_banners/783214/1503522865\", \"profile_link_color\": \"1B95E0\", \"profile_sidebar_border_color\": \"FFFFFF\", \"profile_sidebar_fill_color\": \"F6F6F6\", \"profile_text_color\": \"333333\", \"profile_use_background_image\": true, \"has_extended_profile\": true, \"default_profile\": false, \"default_profile_image\": false, \"following\": true, \"follow_request_sent\": false, \"notifications\": false, \"translator_type\": \"regular\"}, \"geo\": null, \"coordinates\": null, \"place\": null, \"contributors\": null, \"retweeted_status\": {\"created_at\": \"Sat Sep 23 20:00:09 +0000 2017\", \"id\": 911681611862872065, \"id_str\": \"911681611862872065\", \"text\": \"Turning music into a movement.\\n\\nThe @GlblCtzn Festival is streaming LIVE on Twitter. https://t.co/8VtbqXFwt5\", \"truncated\": false, \"entities\": {\"hashtags\": [], \"symbols\": [], \"user_mentions\": [{\"screen_name\": \"GlblCtzn\", \"name\": \"Global Citizen\", \"id\": 596893898, \"id_str\": \"596893898\", \"indices\": [36, 45]}], \"urls\": [{\"url\": \"https://t.co/8VtbqXFwt5\", \"expanded_url\": \"https://twitter.com/i/live/902627868961792000\", \"display_url\": \"twitter.com/i/live/9026278\\u2026\", \"indices\": [85, 108]}]}, \"source\": \"<a href=\\\"http://twitter.com\\\" rel=\\\"nofollow\\\">Twitter Web Client</a>\", \"in_reply_to_status_id\": null, \"in_reply_to_status_id_str\": null, \"in_reply_to_user_id\": null, \"in_reply_to_user_id_str\": null, \"in_reply_to_screen_name\": null, \"user\": {\"id\": 373471064, \"id_str\": \"373471064\", \"name\": \"Twitter Music\", \"screen_name\": \"TwitterMusic\", \"location\": \"Twitter HQ\", \"description\": \"Music related Tweets from around the world.\", \"url\": null, \"entities\": {\"description\": {\"urls\": []}}, \"protected\": false, \"followers_count\": 12248413, \"friends_count\": 365, \"listed_count\": 10910, \"created_at\": \"Wed Sep 14 16:50:47 +0000 2011\", \"favourites_count\": 2265, \"utc_offset\": -36000, \"time_zone\": \"Hawaii\", \"geo_enabled\": true, \"verified\": true, \"statuses_count\": 13824, \"lang\": \"en\", \"contributors_enabled\": false, \"is_translator\": false, \"is_translation_enabled\": false, \"profile_background_color\": \"131516\", \"profile_background_image_url\": \"http://abs.twimg.com/images/themes/theme14/bg.gif\", \"profile_background_image_url_https\": \"https://abs.twimg.com/images/themes/theme14/bg.gif\", \"profile_background_tile\": true, \"profile_image_url\": \"http://pbs.twimg.com/profile_images/875133023347326977/rj-yK2x3_normal.jpg\", \"profile_image_url_https\": \"https://pbs.twimg.com/profile_images/875133023347326977/rj-yK2x3_normal.jpg\", \"profile_banner_url\": \"https://pbs.twimg.com/profile_banners/373471064/1494446409\", \"profile_link_color\": \"009999\", \"profile_sidebar_border_color\": \"000000\", \"profile_sidebar_fill_color\": \"EFEFEF\", \"profile_text_color\": \"333333\", \"profile_use_background_image\": true, \"has_extended_profile\": false, \"default_profile\": false, \"default_profile_image\": false, \"following\": false, \"follow_request_sent\": false, \"notifications\": false, \"translator_type\": \"none\"}, \"geo\": null, \"coordinates\": null, \"place\": null, \"contributors\": null, \"is_quote_status\": false, \"retweet_count\": 531, \"favorite_count\": 3198, \"favorited\": false, \"retweeted\": false, \"possibly_sensitive\": false, \"possibly_sensitive_appealable\": false, \"lang\": \"en\"}, \"is_quote_status\": false, \"retweet_count\": 531, \"favorite_count\": 0, \"favorited\": false, \"retweeted\": false, \"possibly_sensitive\": false, \"possibly_sensitive_appealable\": false, \"lang\": \"en\"}\n"
     ]
    },
    {
     "name": "stdout",
     "output_type": "stream",
     "text": [
      "{\"created_at\": \"Sat Sep 23 16:29:13 +0000 2017\", \"id\": 911628528147423232, \"id_str\": \"911628528147423232\", \"text\": \"RT @TwitterVideo: The @Twitter video weekly recap = emotional life boost. \\nhttps://t.co/vjxPtrvaH9\", \"truncated\": false, \"entities\": {\"hashtags\": [], \"symbols\": [], \"user_mentions\": [{\"screen_name\": \"TwitterVideo\", \"name\": \"Twitter Video\", \"id\": 3282859598, \"id_str\": \"3282859598\", \"indices\": [3, 16]}, {\"screen_name\": \"Twitter\", \"name\": \"Twitter\", \"id\": 783214, \"id_str\": \"783214\", \"indices\": [22, 30]}], \"urls\": [{\"url\": \"https://t.co/vjxPtrvaH9\", \"expanded_url\": \"https://twitter.com/i/moments/910996781202161666\", \"display_url\": \"twitter.com/i/moments/9109\\u2026\", \"indices\": [75, 98]}]}, \"source\": \"<a href=\\\"http://twitter.com/download/iphone\\\" rel=\\\"nofollow\\\">Twitter for iPhone</a>\", \"in_reply_to_status_id\": null, \"in_reply_to_status_id_str\": null, \"in_reply_to_user_id\": null, \"in_reply_to_user_id_str\": null, \"in_reply_to_screen_name\": null, \"user\": {\"id\": 783214, \"id_str\": \"783214\", \"name\": \"Twitter\", \"screen_name\": \"Twitter\", \"location\": \"San Francisco, CA\", \"description\": \"Your official source for what\\u2019s happening.\\n\\nNeed a hand? Visit https://t.co/jTMg7YsLw5\", \"url\": \"https://t.co/gN5JJwhQy7\", \"entities\": {\"url\": {\"urls\": [{\"url\": \"https://t.co/gN5JJwhQy7\", \"expanded_url\": \"https://blog.twitter.com/\", \"display_url\": \"blog.twitter.com\", \"indices\": [0, 23]}]}, \"description\": {\"urls\": [{\"url\": \"https://t.co/jTMg7YsLw5\", \"expanded_url\": \"https://support.twitter.com\", \"display_url\": \"support.twitter.com\", \"indices\": [63, 86]}]}}, \"protected\": false, \"followers_count\": 62011829, \"friends_count\": 167, \"listed_count\": 90789, \"created_at\": \"Tue Feb 20 14:35:54 +0000 2007\", \"favourites_count\": 5169, \"utc_offset\": -25200, \"time_zone\": \"Pacific Time (US & Canada)\", \"geo_enabled\": true, \"verified\": true, \"statuses_count\": 6169, \"lang\": \"en\", \"contributors_enabled\": false, \"is_translator\": false, \"is_translation_enabled\": false, \"profile_background_color\": \"ACDED6\", \"profile_background_image_url\": \"http://pbs.twimg.com/profile_background_images/657090062/l1uqey5sy82r9ijhke1i.png\", \"profile_background_image_url_https\": \"https://pbs.twimg.com/profile_background_images/657090062/l1uqey5sy82r9ijhke1i.png\", \"profile_background_tile\": true, \"profile_image_url\": \"http://pbs.twimg.com/profile_images/875087697177567232/Qfy0kRIP_normal.jpg\", \"profile_image_url_https\": \"https://pbs.twimg.com/profile_images/875087697177567232/Qfy0kRIP_normal.jpg\", \"profile_banner_url\": \"https://pbs.twimg.com/profile_banners/783214/1503522865\", \"profile_link_color\": \"1B95E0\", \"profile_sidebar_border_color\": \"FFFFFF\", \"profile_sidebar_fill_color\": \"F6F6F6\", \"profile_text_color\": \"333333\", \"profile_use_background_image\": true, \"has_extended_profile\": true, \"default_profile\": false, \"default_profile_image\": false, \"following\": true, \"follow_request_sent\": false, \"notifications\": false, \"translator_type\": \"regular\"}, \"geo\": null, \"coordinates\": null, \"place\": null, \"contributors\": null, \"retweeted_status\": {\"created_at\": \"Sat Sep 23 16:00:02 +0000 2017\", \"id\": 911621185015877632, \"id_str\": \"911621185015877632\", \"text\": \"The @Twitter video weekly recap = emotional life boost. \\nhttps://t.co/vjxPtrvaH9\", \"truncated\": false, \"entities\": {\"hashtags\": [], \"symbols\": [], \"user_mentions\": [{\"screen_name\": \"Twitter\", \"name\": \"Twitter\", \"id\": 783214, \"id_str\": \"783214\", \"indices\": [4, 12]}], \"urls\": [{\"url\": \"https://t.co/vjxPtrvaH9\", \"expanded_url\": \"https://twitter.com/i/moments/910996781202161666\", \"display_url\": \"twitter.com/i/moments/9109\\u2026\", \"indices\": [57, 80]}]}, \"source\": \"<a href=\\\"https://about.twitter.com/products/tweetdeck\\\" rel=\\\"nofollow\\\">TweetDeck</a>\", \"in_reply_to_status_id\": null, \"in_reply_to_status_id_str\": null, \"in_reply_to_user_id\": null, \"in_reply_to_user_id_str\": null, \"in_reply_to_screen_name\": null, \"user\": {\"id\": 3282859598, \"id_str\": \"3282859598\", \"name\": \"Twitter Video\", \"screen_name\": \"TwitterVideo\", \"location\": \"\", \"description\": \"Showing some of the best vids on @Twitter.\", \"url\": null, \"entities\": {\"description\": {\"urls\": []}}, \"protected\": false, \"followers_count\": 17022488, \"friends_count\": 958, \"listed_count\": 1589, \"created_at\": \"Sat Jul 18 00:54:11 +0000 2015\", \"favourites_count\": 8535, \"utc_offset\": -25200, \"time_zone\": \"Pacific Time (US & Canada)\", \"geo_enabled\": true, \"verified\": true, \"statuses_count\": 5920, \"lang\": \"en\", \"contributors_enabled\": false, \"is_translator\": false, \"is_translation_enabled\": false, \"profile_background_color\": \"C0DEED\", \"profile_background_image_url\": \"http://abs.twimg.com/images/themes/theme1/bg.png\", \"profile_background_image_url_https\": \"https://abs.twimg.com/images/themes/theme1/bg.png\", \"profile_background_tile\": false, \"profile_image_url\": \"http://pbs.twimg.com/profile_images/838917089616261120/UyQk9bC6_normal.jpg\", \"profile_image_url_https\": \"https://pbs.twimg.com/profile_images/838917089616261120/UyQk9bC6_normal.jpg\", \"profile_banner_url\": \"https://pbs.twimg.com/profile_banners/3282859598/1498520546\", \"profile_link_color\": \"1DA1F2\", \"profile_sidebar_border_color\": \"C0DEED\", \"profile_sidebar_fill_color\": \"DDEEF6\", \"profile_text_color\": \"333333\", \"profile_use_background_image\": true, \"has_extended_profile\": false, \"default_profile\": true, \"default_profile_image\": false, \"following\": false, \"follow_request_sent\": false, \"notifications\": false, \"translator_type\": \"none\"}, \"geo\": null, \"coordinates\": null, \"place\": null, \"contributors\": null, \"is_quote_status\": false, \"retweet_count\": 114, \"favorite_count\": 604, \"favorited\": false, \"retweeted\": false, \"possibly_sensitive\": false, \"possibly_sensitive_appealable\": false, \"lang\": \"en\"}, \"is_quote_status\": false, \"retweet_count\": 114, \"favorite_count\": 0, \"favorited\": false, \"retweeted\": false, \"possibly_sensitive\": false, \"possibly_sensitive_appealable\": false, \"lang\": \"en\"}\n",
      "RT @TwitterVideo: The @Twitter video weekly recap = emotional life boost. \n",
      "https://t.co/vjxPtrvaH9\n"
     ]
    }
   ],
   "source": [
    "for status in tweepy.Cursor(api.home_timeline).items(10):\n",
    "    # Process a single status\n",
    "    process_or_store(status._json)"
   ]
  },
  {
   "cell_type": "code",
   "execution_count": 14,
   "metadata": {},
   "outputs": [
    {
     "name": "stdout",
     "output_type": "stream",
     "text": [
      "{\"id\": 783214, \"id_str\": \"783214\", \"name\": \"Twitter\", \"screen_name\": \"Twitter\", \"location\": \"San Francisco, CA\", \"description\": \"Your official source for what\\u2019s happening.\\n\\nNeed a hand? Visit https://t.co/jTMg7YsLw5\", \"url\": \"https://t.co/gN5JJwhQy7\", \"entities\": {\"url\": {\"urls\": [{\"url\": \"https://t.co/gN5JJwhQy7\", \"expanded_url\": \"https://blog.twitter.com/\", \"display_url\": \"blog.twitter.com\", \"indices\": [0, 23]}]}, \"description\": {\"urls\": [{\"url\": \"https://t.co/jTMg7YsLw5\", \"expanded_url\": \"https://support.twitter.com\", \"display_url\": \"support.twitter.com\", \"indices\": [63, 86]}]}}, \"protected\": false, \"followers_count\": 62011834, \"friends_count\": 167, \"listed_count\": 90792, \"created_at\": \"Tue Feb 20 14:35:54 +0000 2007\", \"favourites_count\": 5169, \"utc_offset\": -25200, \"time_zone\": \"Pacific Time (US & Canada)\", \"geo_enabled\": true, \"verified\": true, \"statuses_count\": 6169, \"lang\": \"en\", \"status\": {\"created_at\": \"Sat Sep 30 00:36:34 +0000 2017\", \"id\": 913925502410338304, \"id_str\": \"913925502410338304\", \"text\": \"#PuberMe brings out awkward celebrity throwback photos to raise money for #PuertoRicoRelief. \\n\\nhttps://t.co/GDAF2dPR23\", \"truncated\": false, \"entities\": {\"hashtags\": [{\"text\": \"PuberMe\", \"indices\": [0, 8]}, {\"text\": \"PuertoRicoRelief\", \"indices\": [74, 91]}], \"symbols\": [], \"user_mentions\": [], \"urls\": [{\"url\": \"https://t.co/GDAF2dPR23\", \"expanded_url\": \"https://twitter.com/i/moments/913457261262938112\", \"display_url\": \"twitter.com/i/moments/9134\\u2026\", \"indices\": [95, 118]}]}, \"source\": \"<a href=\\\"http://twitter.com\\\" rel=\\\"nofollow\\\">Twitter Web Client</a>\", \"in_reply_to_status_id\": null, \"in_reply_to_status_id_str\": null, \"in_reply_to_user_id\": null, \"in_reply_to_user_id_str\": null, \"in_reply_to_screen_name\": null, \"geo\": null, \"coordinates\": null, \"place\": null, \"contributors\": null, \"is_quote_status\": false, \"retweet_count\": 408, \"favorite_count\": 1813, \"favorited\": false, \"retweeted\": false, \"possibly_sensitive\": false, \"lang\": \"en\"}, \"contributors_enabled\": false, \"is_translator\": false, \"is_translation_enabled\": false, \"profile_background_color\": \"ACDED6\", \"profile_background_image_url\": \"http://pbs.twimg.com/profile_background_images/657090062/l1uqey5sy82r9ijhke1i.png\", \"profile_background_image_url_https\": \"https://pbs.twimg.com/profile_background_images/657090062/l1uqey5sy82r9ijhke1i.png\", \"profile_background_tile\": true, \"profile_image_url\": \"http://pbs.twimg.com/profile_images/875087697177567232/Qfy0kRIP_normal.jpg\", \"profile_image_url_https\": \"https://pbs.twimg.com/profile_images/875087697177567232/Qfy0kRIP_normal.jpg\", \"profile_banner_url\": \"https://pbs.twimg.com/profile_banners/783214/1503522865\", \"profile_link_color\": \"1B95E0\", \"profile_sidebar_border_color\": \"FFFFFF\", \"profile_sidebar_fill_color\": \"F6F6F6\", \"profile_text_color\": \"333333\", \"profile_use_background_image\": true, \"has_extended_profile\": true, \"default_profile\": false, \"default_profile_image\": false, \"following\": true, \"live_following\": false, \"follow_request_sent\": false, \"notifications\": false, \"muting\": false, \"blocking\": false, \"blocked_by\": false, \"translator_type\": \"regular\"}\n"
     ]
    }
   ],
   "source": [
    "for friend in tweepy.Cursor(api.friends).items():\n",
    "    process_or_store(friend._json)"
   ]
  },
  {
   "cell_type": "code",
   "execution_count": null,
   "metadata": {},
   "outputs": [
    {
     "name": "stdout",
     "output_type": "stream",
     "text": [
      "{\"created_at\": \"Fri Sep 29 01:21:26 +0000 2017\", \"id\": 913574406177226757, \"id_str\": \"913574406177226757\", \"text\": \"Twitter Apps https://t.co/QPVPF8taKR via @twitter\", \"truncated\": false, \"entities\": {\"hashtags\": [], \"symbols\": [], \"user_mentions\": [{\"screen_name\": \"Twitter\", \"name\": \"Twitter\", \"id\": 783214, \"id_str\": \"783214\", \"indices\": [41, 49]}], \"urls\": [{\"url\": \"https://t.co/QPVPF8taKR\", \"expanded_url\": \"https://apps.twitter.com/\", \"display_url\": \"apps.twitter.com\", \"indices\": [13, 36]}]}, \"source\": \"<a href=\\\"http://twitter.com\\\" rel=\\\"nofollow\\\">Twitter Web Client</a>\", \"in_reply_to_status_id\": null, \"in_reply_to_status_id_str\": null, \"in_reply_to_user_id\": null, \"in_reply_to_user_id_str\": null, \"in_reply_to_screen_name\": null, \"user\": {\"id\": 913446045853429761, \"id_str\": \"913446045853429761\", \"name\": \"venkat\", \"screen_name\": \"venkat72613578\", \"location\": \"\", \"description\": \"\", \"url\": null, \"entities\": {\"description\": {\"urls\": []}}, \"protected\": false, \"followers_count\": 1, \"friends_count\": 1, \"listed_count\": 0, \"created_at\": \"Thu Sep 28 16:51:23 +0000 2017\", \"favourites_count\": 0, \"utc_offset\": null, \"time_zone\": null, \"geo_enabled\": false, \"verified\": false, \"statuses_count\": 1, \"lang\": \"en\", \"contributors_enabled\": false, \"is_translator\": false, \"is_translation_enabled\": false, \"profile_background_color\": \"F5F8FA\", \"profile_background_image_url\": null, \"profile_background_image_url_https\": null, \"profile_background_tile\": false, \"profile_image_url\": \"http://abs.twimg.com/sticky/default_profile_images/default_profile_normal.png\", \"profile_image_url_https\": \"https://abs.twimg.com/sticky/default_profile_images/default_profile_normal.png\", \"profile_link_color\": \"1DA1F2\", \"profile_sidebar_border_color\": \"C0DEED\", \"profile_sidebar_fill_color\": \"DDEEF6\", \"profile_text_color\": \"333333\", \"profile_use_background_image\": true, \"has_extended_profile\": false, \"default_profile\": true, \"default_profile_image\": true, \"following\": false, \"follow_request_sent\": false, \"notifications\": false, \"translator_type\": \"none\"}, \"geo\": null, \"coordinates\": null, \"place\": null, \"contributors\": null, \"is_quote_status\": false, \"retweet_count\": 0, \"favorite_count\": 0, \"favorited\": false, \"retweeted\": false, \"possibly_sensitive\": false, \"lang\": \"en\"}\n",
      "RT @TwitterVideo: The @Twitter video weekly recap = emotional life boost. \n",
      "https://t.co/vjxPtrvaH9\n"
     ]
    }
   ],
   "source": [
    "for tweet in tweepy.Cursor(api.user_timeline).items():\n",
    "    process_or_store(tweet._json)"
   ]
  },
  {
   "cell_type": "code",
   "execution_count": null,
   "metadata": {
    "collapsed": true
   },
   "outputs": [],
   "source": []
  },
  {
   "cell_type": "code",
   "execution_count": null,
   "metadata": {},
   "outputs": [
    {
     "name": "stdout",
     "output_type": "stream",
     "text": [
      "RT @TwitterVideo: The @Twitter video weekly recap = emotional life boost. \n",
      "https://t.co/vjxPtrvaH9\n",
      "RT @TwitterVideo: The @Twitter video weekly recap = emotional life boost. \n",
      "https://t.co/vjxPtrvaH9\n",
      "RT @TwitterVideo: The @Twitter video weekly recap = emotional life boost. \n",
      "https://t.co/vjxPtrvaH9\n",
      "RT @TwitterVideo: The @Twitter video weekly recap = emotional life boost. \n",
      "https://t.co/vjxPtrvaH9\n",
      "RT @TwitterVideo: The @Twitter video weekly recap = emotional life boost. \n",
      "https://t.co/vjxPtrvaH9\n",
      "RT @TwitterVideo: The @Twitter video weekly recap = emotional life boost. \n",
      "https://t.co/vjxPtrvaH9\n",
      "RT @TwitterVideo: The @Twitter video weekly recap = emotional life boost. \n",
      "https://t.co/vjxPtrvaH9\n"
     ]
    }
   ],
   "source": [
    "from tweepy import Stream\n",
    "from tweepy.streaming import StreamListener\n",
    " \n",
    "class MyListener(StreamListener):\n",
    " \n",
    "    def on_data(self, data):\n",
    "        try:\n",
    "            with open('iphone.json', 'a') as f:\n",
    "                f.write(data)\n",
    "                return True\n",
    "        except BaseException as e:\n",
    "            print(\"Error on_data: %s\" % str(e))\n",
    "        return True\n",
    " \n",
    "    def on_error(self, status):\n",
    "        print(status)\n",
    "        return True\n",
    " \n",
    "twitter_stream = Stream(auth, MyListener())\n",
    "twitter_stream.filter(track=['iphone'])\n",
    "print(twitter_stream.filter(track=['iphone']))\n"
   ]
  },
  {
   "cell_type": "code",
   "execution_count": null,
   "metadata": {
    "collapsed": true
   },
   "outputs": [],
   "source": []
  },
  {
   "cell_type": "code",
   "execution_count": null,
   "metadata": {
    "collapsed": true
   },
   "outputs": [],
   "source": []
  },
  {
   "cell_type": "code",
   "execution_count": null,
   "metadata": {
    "collapsed": true
   },
   "outputs": [],
   "source": []
  },
  {
   "cell_type": "code",
   "execution_count": null,
   "metadata": {
    "collapsed": true
   },
   "outputs": [],
   "source": []
  },
  {
   "cell_type": "code",
   "execution_count": null,
   "metadata": {
    "collapsed": true
   },
   "outputs": [],
   "source": []
  },
  {
   "cell_type": "code",
   "execution_count": null,
   "metadata": {
    "collapsed": true
   },
   "outputs": [],
   "source": []
  }
 ],
 "metadata": {
  "kernelspec": {
   "display_name": "Python 3",
   "language": "python",
   "name": "python3"
  },
  "language_info": {
   "codemirror_mode": {
    "name": "ipython",
    "version": 3
   },
   "file_extension": ".py",
   "mimetype": "text/x-python",
   "name": "python",
   "nbconvert_exporter": "python",
   "pygments_lexer": "ipython3",
   "version": "3.6.2"
  }
 },
 "nbformat": 4,
 "nbformat_minor": 2
}
